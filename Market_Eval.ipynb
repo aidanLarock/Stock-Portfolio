{
 "cells": [
  {
   "cell_type": "code",
   "execution_count": 1,
   "id": "a85f825e",
   "metadata": {},
   "outputs": [],
   "source": [
    "import numpy as np\n",
    "import pandas as pd\n",
    "import matplotlib.pyplot as plt\n",
    "from statistics import fmean, variance\n",
    "\n",
    "from datetime import datetime, timedelta\n",
    "import requests\n",
    "from lxml import html as HTMLParser"
   ]
  },
  {
   "cell_type": "code",
   "execution_count": 2,
   "id": "595a98ec",
   "metadata": {},
   "outputs": [],
   "source": [
    "# Calculates P/E, Shiller P/E, Interest Rates, Dividend Yields of months specified over S&P 500\n",
    "# Uses Mean, Varience to calculate closness to standard\n",
    "# Outputs Value from 0-99 of under to over valued\n",
    "\n",
    "Months = 12"
   ]
  },
  {
   "cell_type": "code",
   "execution_count": 3,
   "id": "6e4c4afc",
   "metadata": {
    "scrolled": true
   },
   "outputs": [],
   "source": [
    "# P/E\n",
    "\n",
    "pe_url = 'http://www.multpl.com/table?f=m'\n",
    "\n",
    "def get_data_from_multpl_website(url):\n",
    "    headers = {\n",
    "        'User-Agent': (\n",
    "            'Mozilla/5.0 (X11; Linux x86_64) AppleWebKit/537.36 '\n",
    "            '(KHTML, like Gecko) Chrome/63.0.3239.108 Safari/537.36'\n",
    "        )\n",
    "    }\n",
    "    res = requests.get(url, headers=headers)\n",
    "    parsed = HTMLParser.fromstring(res.content.decode('utf-8'))\n",
    "    tr_elems = parsed.cssselect('#datatable tr')\n",
    "    raw_data = [[td.text.strip() for td in tr_elem.cssselect('td')] for tr_elem in tr_elems[1:]]\n",
    "    return raw_data\n",
    "\n",
    "\n",
    "pe_data = get_data_from_multpl_website(pe_url)"
   ]
  },
  {
   "cell_type": "code",
   "execution_count": 4,
   "id": "4f4596b3",
   "metadata": {},
   "outputs": [],
   "source": [
    "# Shiller P/E\n",
    "\n",
    "pe_url = 'https://www.multpl.com/shiller-pe/table/by-month'\n",
    "\n",
    "def get_data_from_multpl_website(url):\n",
    "    headers = {\n",
    "        'User-Agent': (\n",
    "            'Mozilla/5.0 (X11; Linux x86_64) AppleWebKit/537.36 '\n",
    "            '(KHTML, like Gecko) Chrome/63.0.3239.108 Safari/537.36'\n",
    "        )\n",
    "    }\n",
    "    res = requests.get(url, headers=headers)\n",
    "    parsed = HTMLParser.fromstring(res.content.decode('utf-8'))\n",
    "    tr_elems = parsed.cssselect('#datatable tr')\n",
    "    raw_data = [[td.text.strip() for td in tr_elem.cssselect('td')] for tr_elem in tr_elems[1:]]\n",
    "    return raw_data\n",
    "\n",
    "\n",
    "shiller_data = get_data_from_multpl_website(pe_url)"
   ]
  },
  {
   "cell_type": "code",
   "execution_count": 5,
   "id": "4914e206",
   "metadata": {},
   "outputs": [],
   "source": [
    "# Interest Rates\n",
    "\n",
    "pe_url = 'https://www.multpl.com/5-year-real-interest-rate/table/by-month'\n",
    "\n",
    "def get_data_from_multpl_website(url):\n",
    "    headers = {\n",
    "        'User-Agent': (\n",
    "            'Mozilla/5.0 (X11; Linux x86_64) AppleWebKit/537.36 '\n",
    "            '(KHTML, like Gecko) Chrome/63.0.3239.108 Safari/537.36'\n",
    "        )\n",
    "    }\n",
    "    res = requests.get(url, headers=headers)\n",
    "    parsed = HTMLParser.fromstring(res.content.decode('utf-8'))\n",
    "    tr_elems = parsed.cssselect('#datatable tr')\n",
    "    raw_data = [[td.text.strip() for td in tr_elem.cssselect('td')] for tr_elem in tr_elems[1:]]\n",
    "    return raw_data\n",
    "\n",
    "\n",
    "int_data = get_data_from_multpl_website(pe_url)"
   ]
  },
  {
   "cell_type": "code",
   "execution_count": 6,
   "id": "e9765299",
   "metadata": {},
   "outputs": [],
   "source": [
    "# Dividend Yeilds\n",
    "\n",
    "pe_url = 'https://www.multpl.com/s-p-500-dividend-yield/table/by-month'\n",
    "\n",
    "def get_data_from_multpl_website(url):\n",
    "    headers = {\n",
    "        'User-Agent': (\n",
    "            'Mozilla/5.0 (X11; Linux x86_64) AppleWebKit/537.36 '\n",
    "            '(KHTML, like Gecko) Chrome/63.0.3239.108 Safari/537.36'\n",
    "        )\n",
    "    }\n",
    "    res = requests.get(url, headers=headers)\n",
    "    parsed = HTMLParser.fromstring(res.content.decode('utf-8'))\n",
    "    tr_elems = parsed.cssselect('#datatable tr')\n",
    "    raw_data = [[td.text.strip() for td in tr_elem.cssselect('td')] for tr_elem in tr_elems[1:]]\n",
    "    return raw_data\n",
    "\n",
    "\n",
    "div_data = get_data_from_multpl_website(pe_url)"
   ]
  },
  {
   "cell_type": "code",
   "execution_count": 7,
   "id": "6d6f435b",
   "metadata": {
    "scrolled": false
   },
   "outputs": [],
   "source": [
    "div_data = np.array(div_data[:Months])\n",
    "int_data = np.array(int_data[:Months])\n",
    "shiller_data = np.array(shiller_data[:Months])\n",
    "pe_data = np.array(pe_data[:Months])\n",
    "\n",
    "div_data = div_data[:,1]\n",
    "int_data = int_data[:,1]\n",
    "shiller_data = shiller_data[:,1]\n",
    "pe_data = pe_data[:,1]"
   ]
  },
  {
   "cell_type": "code",
   "execution_count": 8,
   "id": "5ddaf007",
   "metadata": {},
   "outputs": [],
   "source": [
    "PE = [float(i) for i in pe_data]\n",
    "SHIL = [float(i) for i in shiller_data]\n",
    "INT = [float(i.strip('%')) for i in int_data]\n",
    "DIV = [float(i.strip('%')) for i in div_data]"
   ]
  },
  {
   "cell_type": "code",
   "execution_count": 9,
   "id": "a5d1db85",
   "metadata": {},
   "outputs": [
    {
     "name": "stdout",
     "output_type": "stream",
     "text": [
      "29.021666666666665\n",
      "2.91797878787879\n",
      "29.46\n"
     ]
    }
   ],
   "source": [
    "# P/E Data\n",
    "\n",
    "avg = fmean(PE)\n",
    "var = variance(PE, avg)\n",
    "cur = PE[0]\n",
    "\n",
    "print(avg)\n",
    "print(var)\n",
    "print(cur)"
   ]
  },
  {
   "cell_type": "code",
   "execution_count": 10,
   "id": "94ddd201",
   "metadata": {},
   "outputs": [
    {
     "name": "stdout",
     "output_type": "stream",
     "text": [
      "37.39416666666667\n",
      "2.012426515151515\n",
      "39.24\n"
     ]
    }
   ],
   "source": [
    "# SHILLER P/E Data\n",
    "\n",
    "avg = fmean(SHIL)\n",
    "var = variance(SHIL, avg)\n",
    "cur = SHIL[0]\n",
    "\n",
    "print(avg)\n",
    "print(var)\n",
    "print(cur)"
   ]
  },
  {
   "cell_type": "code",
   "execution_count": 11,
   "id": "944b260c",
   "metadata": {},
   "outputs": [
    {
     "name": "stdout",
     "output_type": "stream",
     "text": [
      "1.3541666666666667\n",
      "0.00509924242424242\n",
      "1.27\n"
     ]
    }
   ],
   "source": [
    "# DIVIDEND YIELD Data\n",
    "\n",
    "avg = fmean(DIV)\n",
    "var = variance(DIV, avg)\n",
    "cur = DIV[0]\n",
    "\n",
    "print(avg)\n",
    "print(var)\n",
    "print(cur)"
   ]
  },
  {
   "cell_type": "code",
   "execution_count": 12,
   "id": "ccb59ad4",
   "metadata": {},
   "outputs": [
    {
     "name": "stdout",
     "output_type": "stream",
     "text": [
      "-1.66\n",
      "0.020090909090909093\n",
      "-1.28\n"
     ]
    }
   ],
   "source": [
    "# INTEREST RATES Data\n",
    "\n",
    "avg = fmean(INT)\n",
    "var = variance(INT, avg)\n",
    "cur = INT[0]\n",
    "\n",
    "print(avg)\n",
    "print(var)\n",
    "print(cur)"
   ]
  },
  {
   "cell_type": "code",
   "execution_count": null,
   "id": "34c3b217",
   "metadata": {},
   "outputs": [],
   "source": []
  }
 ],
 "metadata": {
  "kernelspec": {
   "display_name": "Python 3 (ipykernel)",
   "language": "python",
   "name": "python3"
  },
  "language_info": {
   "codemirror_mode": {
    "name": "ipython",
    "version": 3
   },
   "file_extension": ".py",
   "mimetype": "text/x-python",
   "name": "python",
   "nbconvert_exporter": "python",
   "pygments_lexer": "ipython3",
   "version": "3.8.1"
  }
 },
 "nbformat": 4,
 "nbformat_minor": 5
}
