{
 "cells": [
  {
   "cell_type": "code",
   "execution_count": 1,
   "id": "a85f825e",
   "metadata": {},
   "outputs": [],
   "source": [
    "import bs4 as bs\n",
    "import pickle\n",
    "import requests\n",
    "import math"
   ]
  },
  {
   "cell_type": "code",
   "execution_count": 2,
   "id": "436f8dc3",
   "metadata": {},
   "outputs": [],
   "source": [
    "# Allocation \n",
    "# Output Recourse Allocation\n",
    "\n",
    "# 0 - 99 Market Eval Calculations\n",
    "IN = 20\n",
    "num_Stock = 100"
   ]
  },
  {
   "cell_type": "code",
   "execution_count": 3,
   "id": "8de729f9",
   "metadata": {},
   "outputs": [],
   "source": [
    "def save_sp500_tickers():\n",
    "    resp = requests.get('http://en.wikipedia.org/wiki/List_of_S%26P_500_companies')\n",
    "    soup = bs.BeautifulSoup(resp.text, 'lxml')\n",
    "    table = soup.find('table', {'class': 'wikitable sortable'})\n",
    "    tickers = []\n",
    "    for row in table.findAll('tr')[1:]:\n",
    "        ticker = row.findAll('td')[3].text\n",
    "        tickers.append(ticker)\n",
    "        \n",
    "    with open(\"sp500tickers.pickle\",\"wb\") as f:\n",
    "        pickle.dump(tickers,f)\n",
    "        \n",
    "    return tickers\n",
    "\n",
    "industry = save_sp500_tickers()"
   ]
  },
  {
   "cell_type": "code",
   "execution_count": 4,
   "id": "d18e6840",
   "metadata": {},
   "outputs": [],
   "source": [
    "HEC = industry.count('Health Care')\n",
    "IND = industry.count('Industrials')\n",
    "INT = industry.count('Information Technology')\n",
    "COM = industry.count('Communication Services')\n",
    "COND = industry.count('Consumer Discretionary')\n",
    "UTL = industry.count('Utilities')\n",
    "FNC = industry.count('Financials')\n",
    "RES = industry.count('Real Estate')\n",
    "MAT = industry.count('Materials')\n",
    "CONS = industry.count('Consumer Staples')\n",
    "ENG = industry.count('Energy')\n",
    "\n",
    "INT = INT + ENG + RES\n",
    "\n",
    "Total = INT + HEC + IND + COM + COND + UTL + FNC + MAT + CONS"
   ]
  },
  {
   "cell_type": "code",
   "execution_count": 5,
   "id": "57e3adab",
   "metadata": {},
   "outputs": [],
   "source": [
    "#Sectors (S&P)\n",
    "sectors = {\n",
    "    'Technology': INT/Total,\n",
    "    'Services': UTL/Total,\n",
    "    'Basic Materials': MAT/Total,\n",
    "    'Industrials': IND/Total,\n",
    "    'Healthcare':  HEC/Total,\n",
    "    'Financial Services': FNC/Total,\n",
    "    'Consumer Defensive': CONS/Total,\n",
    "    'Consumer Cyclical': COND/Total,\n",
    "    'Communication Services': COM/Total\n",
    "}"
   ]
  },
  {
   "cell_type": "code",
   "execution_count": 6,
   "id": "84b94c5e",
   "metadata": {},
   "outputs": [
    {
     "name": "stdout",
     "output_type": "stream",
     "text": [
      "(90, 5, 5)\n"
     ]
    }
   ],
   "source": [
    "#Stock Caps (billion)\n",
    "small = 0,2\n",
    "medium = 2,10\n",
    "large = 10\n",
    "\n",
    "#Portfolio Types (Eq,Cash,Sec)\n",
    "M_Con = 40,20,40\n",
    "Con = 25,40,35\n",
    "v_Con = 10,60,30\n",
    "M_Agg = 55,10,35\n",
    "Agg = 75,5,20\n",
    "v_Agg = 90,5,5\n",
    "\n",
    "if(IN >= 85 and IN <= 100):\n",
    "    Chosen = V_Con\n",
    "if(IN >= 74 and IN <= 85):\n",
    "    Chosen = Con\n",
    "if(IN >= 58 and IN <= 74):\n",
    "    Chosen = M_Con\n",
    "if(IN >= 41 and IN <= 57):\n",
    "    Chosen = M_Agg\n",
    "if(IN >= 21 and IN <= 40):\n",
    "    Chosen = Agg\n",
    "if(IN >= 0 and IN <= 20):\n",
    "    Chosen = v_Agg\n",
    "\n",
    "#chosen strategy\n",
    "print(Chosen)"
   ]
  },
  {
   "cell_type": "code",
   "execution_count": 7,
   "id": "5ddaf007",
   "metadata": {},
   "outputs": [
    {
     "name": "stdout",
     "output_type": "stream",
     "text": [
      "Sector: Technology 22%\n",
      "Sector: Services 5%\n",
      "Sector: Basic Materials 5%\n",
      "Sector: Industrials 13%\n",
      "Sector: Healthcare 11%\n",
      "Sector: Financial Services 11%\n",
      "Sector: Consumer Defensive 5%\n",
      "Sector: Consumer Cyclical 10%\n",
      "Sector: Communication Services 4%\n"
     ]
    }
   ],
   "source": [
    "for x in sectors:\n",
    "    # value of stock using type\n",
    "    val = (sectors[x])*Chosen[0]\n",
    "    print(\"Sector: \"+ x +\" \"+ str(int(val))+\"%\")"
   ]
  },
  {
   "cell_type": "code",
   "execution_count": 8,
   "id": "a5d1db85",
   "metadata": {},
   "outputs": [
    {
     "name": "stdout",
     "output_type": "stream",
     "text": [
      "Sector Stocks: Technology = 22\n",
      "Sector Stocks: Services = 5\n",
      "Sector Stocks: Basic Materials = 5\n",
      "Sector Stocks: Industrials = 13\n",
      "Sector Stocks: Healthcare = 11\n",
      "Sector Stocks: Financial Services = 11\n",
      "Sector Stocks: Consumer Defensive = 5\n",
      "Sector Stocks: Consumer Cyclical = 10\n",
      "Sector Stocks: Communication Services = 4\n"
     ]
    }
   ],
   "source": [
    "# Using Chosen Strategy (Agg = 60% Stock)\n",
    "for x in sectors:\n",
    "    # value of stock using type\n",
    "    val = (sectors[x])*Chosen[0]\n",
    "    print(\"Sector Stocks: \"+ x +\" = \"+ str(int(val)))"
   ]
  }
 ],
 "metadata": {
  "kernelspec": {
   "display_name": "Python 3 (ipykernel)",
   "language": "python",
   "name": "python3"
  },
  "language_info": {
   "codemirror_mode": {
    "name": "ipython",
    "version": 3
   },
   "file_extension": ".py",
   "mimetype": "text/x-python",
   "name": "python",
   "nbconvert_exporter": "python",
   "pygments_lexer": "ipython3",
   "version": "3.8.1"
  }
 },
 "nbformat": 4,
 "nbformat_minor": 5
}
