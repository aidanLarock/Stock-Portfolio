{
 "cells": [
  {
   "cell_type": "code",
   "execution_count": 1,
   "id": "a85f825e",
   "metadata": {},
   "outputs": [],
   "source": [
    "import financedatabase as fd\n",
    "import json"
   ]
  },
  {
   "cell_type": "code",
   "execution_count": 2,
   "id": "6e4c4afc",
   "metadata": {},
   "outputs": [],
   "source": [
    "#Sectors\n",
    "sectors = {\n",
    "    'Technology',\n",
    "    'Services',\n",
    "    'Basic Materials',\n",
    "    'Industrials',\n",
    "    'Healthcare',\n",
    "    'Financial Services',\n",
    "    'Consumer Defensive',\n",
    "    'Consumer Cyclical',\n",
    "    'Communication Services'\n",
    "}"
   ]
  },
  {
   "cell_type": "code",
   "execution_count": 3,
   "id": "6d6f435b",
   "metadata": {
    "scrolled": false
   },
   "outputs": [
    {
     "name": "stdout",
     "output_type": "stream",
     "text": [
      "A\n",
      "Agilent Technologies, Inc.\n",
      "Healthcare\n",
      "Large Cap\n",
      " \n",
      "AAGH\n",
      "AMERICA GREAT HEALTH\n",
      "Consumer Defensive\n",
      "Mid Cap\n",
      " \n",
      "AA\n",
      "Alcoa Corporation\n",
      "Basic Materials\n",
      "Mid Cap\n",
      " \n",
      "AAOI\n",
      "Applied Optoelectronics, Inc.\n",
      "Technology\n",
      "Small Cap\n",
      " \n",
      "AAC\n",
      "Ares Acquisition Corporation\n",
      "Financial Services\n",
      "Small Cap\n",
      " \n",
      "ADEC\n",
      "ALTERNATIVE ENERGY DEVELOPMENT \n",
      "Services\n",
      "Small Cap\n",
      " \n",
      "AAN\n",
      "Aarons Holdings Company, Inc.\n",
      "Consumer Cyclical\n",
      "Small Cap\n",
      " \n",
      "AACS\n",
      "AMERICAN COMMERCE SOLUTIONS INC\n",
      "Industrials\n",
      "Small Cap\n",
      " \n",
      "AATV\n",
      "ADAPTIVE AD SYSTEMS INC\n",
      "Communication Services\n",
      "Small Cap\n",
      " \n"
     ]
    }
   ],
   "source": [
    "for x in sectors:\n",
    "    data = fd.select_equities(country='United States', sector = x)\n",
    "    ticker = list(data.keys())\n",
    "\n",
    "    # Specifying Ticker\n",
    "    for x in range(1):\n",
    "        tick = ticker[x]\n",
    "\n",
    "        # Getting Info\n",
    "        name = data[ticker[x]]['short_name']\n",
    "        sector = data[ticker[x]]['sector']\n",
    "        cap = data[ticker[x]]['market_cap']\n",
    "        industry = data[ticker[x]]['industry']\n",
    "\n",
    "        # Printing\n",
    "        print(tick)\n",
    "        print(name)\n",
    "        print(sector)\n",
    "        print(cap)\n",
    "        print(\" \")"
   ]
  },
  {
   "cell_type": "code",
   "execution_count": null,
   "id": "f52631dc",
   "metadata": {},
   "outputs": [],
   "source": []
  }
 ],
 "metadata": {
  "kernelspec": {
   "display_name": "Python 3 (ipykernel)",
   "language": "python",
   "name": "python3"
  },
  "language_info": {
   "codemirror_mode": {
    "name": "ipython",
    "version": 3
   },
   "file_extension": ".py",
   "mimetype": "text/x-python",
   "name": "python",
   "nbconvert_exporter": "python",
   "pygments_lexer": "ipython3",
   "version": "3.8.1"
  }
 },
 "nbformat": 4,
 "nbformat_minor": 5
}
